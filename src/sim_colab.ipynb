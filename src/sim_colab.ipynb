{
 "cells": [
  {
   "cell_type": "code",
   "execution_count": null,
   "metadata": {
    "vscode": {
     "languageId": "r"
    }
   },
   "outputs": [],
   "source": [
    "# create the simulation\n",
    "\n",
    "library(MASS)\n",
    "library(parallel)\n",
    "library(tidyverse)\n",
    "# library(arm)\n",
    "# do a rep call\n",
    "# library(glmnet)\n",
    "# library(foreach)\n",
    "# library(doParallel)\n",
    "source(\"models.R\")\n",
    "source(\"sim.R\")\n"
   ]
  },
  {
   "cell_type": "code",
   "execution_count": null,
   "metadata": {
    "vscode": {
     "languageId": "r"
    }
   },
   "outputs": [],
   "source": [
    "N_iter <- 500\n",
    "n = 100\n",
    "# num_preds <- c(500, 1000, 10000)\n",
    "q <- 6\n",
    "\n",
    "numCores <- detectCores() - 1\n",
    "\n",
    "sims <- list()\n",
    "for (p in c(500, 1000)) {\n",
    "    sims[[p]] <- lapply(seq(1:N_iter), function(x) {\n",
    "        sim.norm(n, p, q)\n",
    "    })\n",
    "    print(paste(\"done with\", p))\n",
    "}\n",
    "sims[[10000]] <- lapply(seq(1:(N_iter/5)), function(x) {\n",
    "    sim.norm(n, p = 10000, q)\n",
    "})\n",
    "print(\"done with 10000\")\n",
    "\n",
    "\n",
    "model_output <- mclapply(sims, function(x) {\n",
    "    fit.models(x)\n",
    "}, mc.cores = numCores)\n",
    "\n",
    "\n",
    "df <- modelout_to_df(model_output)\n",
    "\n",
    "df$p  <- c(rep(500, 500), rep(1000, 500), rep(10000, 100))\n",
    "# save df to file as rda\n",
    "saveRDS(df, \"df.rda\")\n",
    "\n",
    "# group by model and summarise to get mean and standard deviation\n",
    "summarydf <- df %>%\n",
    "    group_by(p ,model) %>%\n",
    "    summarise(\n",
    "        FP_mean = mean(FP), FP_sd = sd(FP),\n",
    "        FN_mean = mean(FN), FN_sd = sd(FN),\n",
    "        auc_mean = mean(auc), auc_sd = sd(auc)\n",
    "    )\n",
    "# write to csv\n",
    "write.csv(summarydf, \"data/summarydf.csv\")"
   ]
  }
 ],
 "metadata": {
  "kernelspec": {
   "display_name": "R",
   "language": "R",
   "name": "ir"
  },
  "language_info": {
   "name": "R"
  },
  "orig_nbformat": 4
 },
 "nbformat": 4,
 "nbformat_minor": 2
}
