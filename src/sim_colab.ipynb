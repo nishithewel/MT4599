{
 "cells": [
  {
   "cell_type": "code",
   "execution_count": 1,
   "metadata": {
    "vscode": {
     "languageId": "r"
    }
   },
   "outputs": [
    {
     "name": "stderr",
     "output_type": "stream",
     "text": [
      "Warning message:\n",
      "\"package 'MASS' was built under R version 3.6.3\""
     ]
    },
    {
     "ename": "ERROR",
     "evalue": "Error in library(tidyverse): there is no package called 'tidyverse'\n",
     "output_type": "error",
     "traceback": [
      "Error in library(tidyverse): there is no package called 'tidyverse'\nTraceback:\n",
      "1. library(tidyverse)"
     ]
    }
   ],
   "source": [
    "# create the simulation\n",
    "\n",
    "library(MASS)\n",
    "library(parallel)\n",
    "library(tidyverse)\n",
    "# library(arm)\n",
    "# do a rep call\n",
    "# library(glmnet)\n",
    "# library(foreach)\n",
    "# library(doParallel)\n",
    "source(\"models.R\")\n",
    "source(\"sim.R\")\n"
   ]
  },
  {
   "cell_type": "code",
   "execution_count": 2,
   "metadata": {
    "vscode": {
     "languageId": "r"
    }
   },
   "outputs": [
    {
     "name": "stderr",
     "output_type": "stream",
     "text": [
      "also installing the dependencies 'htmltools', 'xfun', 'bslib', 'tinytex', 'lifecycle', 'tidyselect', 'vctrs', 'scales', 'gargle', 'timechange', 'systemfonts', 'textshaping', 'vroom', 'knitr', 'rmarkdown', 'glue', 'broom', 'conflicted', 'cli', 'dbplyr', 'dplyr', 'dtplyr', 'forcats', 'ggplot2', 'googledrive', 'googlesheets4', 'haven', 'httr', 'jsonlite', 'lubridate', 'magrittr', 'modelr', 'pillar', 'purrr', 'ragg', 'readr', 'readxl', 'reprex', 'rlang', 'rstudioapi', 'rvest', 'stringr', 'tibble', 'tidyr', 'xml2'\n",
      "\n"
     ]
    },
    {
     "name": "stdout",
     "output_type": "stream",
     "text": [
      "\n",
      "  There are binary versions available but the source versions are later:\n",
      "               binary source needs_compilation\n",
      "htmltools     0.5.1.1  0.5.5              TRUE\n",
      "xfun             0.22   0.38              TRUE\n",
      "bslib           0.2.4  0.4.2             FALSE\n",
      "tinytex          0.31   0.44             FALSE\n",
      "lifecycle       1.0.0  1.0.3             FALSE\n",
      "tidyselect      1.1.1  1.2.0             FALSE\n",
      "vctrs           0.3.8  0.6.1              TRUE\n",
      "scales          1.1.1  1.2.1             FALSE\n",
      "gargle          1.1.0  1.3.0             FALSE\n",
      "timechange      0.0.2  0.2.0              TRUE\n",
      "systemfonts     1.0.2  1.0.4              TRUE\n",
      "textshaping     0.3.4  0.3.6              TRUE\n",
      "vroom           1.4.0  1.6.1              TRUE\n",
      "knitr            1.33   1.42             FALSE\n",
      "rmarkdown         2.8   2.21             FALSE\n",
      "glue            1.4.2  1.6.2              TRUE\n",
      "broom           0.7.6  1.0.4             FALSE\n",
      "conflicted      1.0.4  1.2.0             FALSE\n",
      "cli             2.5.0  3.6.1              TRUE\n",
      "dbplyr          2.1.1  2.3.2             FALSE\n",
      "dplyr           1.0.6  1.1.1              TRUE\n",
      "dtplyr          1.1.0  1.3.1             FALSE\n",
      "forcats         0.5.1  1.0.0             FALSE\n",
      "ggplot2         3.3.3  3.4.2             FALSE\n",
      "googledrive     1.0.1  2.1.0             FALSE\n",
      "googlesheets4   0.3.0  1.1.0             FALSE\n",
      "haven           2.4.1  2.5.2              TRUE\n",
      "httr            1.4.2  1.4.5             FALSE\n",
      "jsonlite        1.7.2  1.8.4              TRUE\n",
      "lubridate      1.7.10  1.9.2              TRUE\n",
      "magrittr        2.0.1  2.0.3              TRUE\n",
      "modelr          0.1.8 0.1.11             FALSE\n",
      "pillar          1.6.0  1.9.0             FALSE\n",
      "purrr           0.3.4  1.0.1              TRUE\n",
      "ragg            1.1.2  1.2.5              TRUE\n",
      "readr           1.4.0  2.1.4              TRUE\n",
      "readxl          1.3.1  1.4.2              TRUE\n",
      "reprex          2.0.0  2.0.2             FALSE\n",
      "rlang          0.4.11  1.1.0              TRUE\n",
      "rstudioapi       0.13   0.14             FALSE\n",
      "rvest           1.0.0  1.0.3             FALSE\n",
      "stringr         1.4.0  1.5.0             FALSE\n",
      "tibble          3.1.1  3.2.1              TRUE\n",
      "tidyr           1.1.3  1.3.0              TRUE\n",
      "xml2            1.3.2  1.3.3              TRUE\n",
      "tidyverse       1.3.1  2.0.0             FALSE\n",
      "\n",
      "  Binaries will be installed\n",
      "package 'htmltools' successfully unpacked and MD5 sums checked\n"
     ]
    },
    {
     "name": "stderr",
     "output_type": "stream",
     "text": [
      "Warning message:\n",
      "\"cannot remove prior installation of package 'htmltools'\"Warning message in file.copy(savedcopy, lib, recursive = TRUE):\n",
      "\"problem copying C:\\Users\\nishi\\anaconda3\\Lib\\R\\library\\00LOCK\\htmltools\\libs\\x64\\htmltools.dll to C:\\Users\\nishi\\anaconda3\\Lib\\R\\library\\htmltools\\libs\\x64\\htmltools.dll: Permission denied\"Warning message:\n",
      "\"restored 'htmltools'\""
     ]
    },
    {
     "name": "stdout",
     "output_type": "stream",
     "text": [
      "package 'xfun' successfully unpacked and MD5 sums checked\n",
      "package 'vctrs' successfully unpacked and MD5 sums checked\n",
      "package 'timechange' successfully unpacked and MD5 sums checked\n",
      "package 'systemfonts' successfully unpacked and MD5 sums checked\n",
      "package 'textshaping' successfully unpacked and MD5 sums checked\n",
      "package 'vroom' successfully unpacked and MD5 sums checked\n",
      "package 'glue' successfully unpacked and MD5 sums checked\n",
      "package 'cli' successfully unpacked and MD5 sums checked\n",
      "package 'dplyr' successfully unpacked and MD5 sums checked\n",
      "package 'haven' successfully unpacked and MD5 sums checked\n",
      "package 'jsonlite' successfully unpacked and MD5 sums checked\n"
     ]
    },
    {
     "name": "stderr",
     "output_type": "stream",
     "text": [
      "Warning message:\n",
      "\"cannot remove prior installation of package 'jsonlite'\"Warning message in file.copy(savedcopy, lib, recursive = TRUE):\n",
      "\"problem copying C:\\Users\\nishi\\anaconda3\\Lib\\R\\library\\00LOCK\\jsonlite\\libs\\x64\\jsonlite.dll to C:\\Users\\nishi\\anaconda3\\Lib\\R\\library\\jsonlite\\libs\\x64\\jsonlite.dll: Permission denied\"Warning message:\n",
      "\"restored 'jsonlite'\""
     ]
    },
    {
     "name": "stdout",
     "output_type": "stream",
     "text": [
      "package 'lubridate' successfully unpacked and MD5 sums checked\n",
      "package 'magrittr' successfully unpacked and MD5 sums checked\n",
      "package 'purrr' successfully unpacked and MD5 sums checked\n",
      "package 'ragg' successfully unpacked and MD5 sums checked\n",
      "package 'readr' successfully unpacked and MD5 sums checked\n",
      "package 'readxl' successfully unpacked and MD5 sums checked\n",
      "package 'rlang' successfully unpacked and MD5 sums checked\n"
     ]
    },
    {
     "name": "stderr",
     "output_type": "stream",
     "text": [
      "Warning message:\n",
      "\"cannot remove prior installation of package 'rlang'\"Warning message in file.copy(savedcopy, lib, recursive = TRUE):\n",
      "\"problem copying C:\\Users\\nishi\\anaconda3\\Lib\\R\\library\\00LOCK\\rlang\\libs\\x64\\rlang.dll to C:\\Users\\nishi\\anaconda3\\Lib\\R\\library\\rlang\\libs\\x64\\rlang.dll: Permission denied\"Warning message:\n",
      "\"restored 'rlang'\""
     ]
    },
    {
     "name": "stdout",
     "output_type": "stream",
     "text": [
      "package 'tibble' successfully unpacked and MD5 sums checked\n",
      "package 'tidyr' successfully unpacked and MD5 sums checked\n",
      "package 'xml2' successfully unpacked and MD5 sums checked\n",
      "\n",
      "The downloaded binary packages are in\n",
      "\tC:\\Users\\nishi\\AppData\\Local\\Temp\\RtmpqKN8r1\\downloaded_packages\n"
     ]
    },
    {
     "name": "stderr",
     "output_type": "stream",
     "text": [
      "installing the source packages 'bslib', 'tinytex', 'lifecycle', 'tidyselect', 'scales', 'gargle', 'knitr', 'rmarkdown', 'broom', 'conflicted', 'dbplyr', 'dtplyr', 'forcats', 'ggplot2', 'googledrive', 'googlesheets4', 'httr', 'modelr', 'pillar', 'reprex', 'rstudioapi', 'rvest', 'stringr', 'tidyverse'\n",
      "\n",
      "Warning message in install.packages(\"tidyverse\"):\n",
      "\"installation of package 'bslib' had non-zero exit status\"Warning message in install.packages(\"tidyverse\"):\n",
      "\"installation of package 'tinytex' had non-zero exit status\"Warning message in install.packages(\"tidyverse\"):\n",
      "\"installation of package 'lifecycle' had non-zero exit status\"Warning message in install.packages(\"tidyverse\"):\n",
      "\"installation of package 'knitr' had non-zero exit status\"Warning message in install.packages(\"tidyverse\"):\n",
      "\"installation of package 'conflicted' had non-zero exit status\"Warning message in install.packages(\"tidyverse\"):\n",
      "\"installation of package 'tidyselect' had non-zero exit status\"Warning message in install.packages(\"tidyverse\"):\n",
      "\"installation of package 'scales' had non-zero exit status\"Warning message in install.packages(\"tidyverse\"):\n",
      "\"installation of package 'gargle' had non-zero exit status\"Warning message in install.packages(\"tidyverse\"):\n",
      "\"installation of package 'forcats' had non-zero exit status\"Warning message in install.packages(\"tidyverse\"):\n",
      "\"installation of package 'pillar' had non-zero exit status\"Warning message in install.packages(\"tidyverse\"):\n",
      "\"installation of package 'rvest' had non-zero exit status\"Warning message in install.packages(\"tidyverse\"):\n",
      "\"installation of package 'stringr' had non-zero exit status\"Warning message in install.packages(\"tidyverse\"):\n",
      "\"installation of package 'rmarkdown' had non-zero exit status\"Warning message in install.packages(\"tidyverse\"):\n",
      "\"installation of package 'broom' had non-zero exit status\"Warning message in install.packages(\"tidyverse\"):\n",
      "\"installation of package 'dbplyr' had non-zero exit status\"Warning message in install.packages(\"tidyverse\"):\n",
      "\"installation of package 'dtplyr' had non-zero exit status\"Warning message in install.packages(\"tidyverse\"):\n",
      "\"installation of package 'ggplot2' had non-zero exit status\"Warning message in install.packages(\"tidyverse\"):\n",
      "\"installation of package 'googledrive' had non-zero exit status\"Warning message in install.packages(\"tidyverse\"):\n",
      "\"installation of package 'googlesheets4' had non-zero exit status\"Warning message in install.packages(\"tidyverse\"):\n",
      "\"installation of package 'modelr' had non-zero exit status\"Warning message in install.packages(\"tidyverse\"):\n",
      "\"installation of package 'reprex' had non-zero exit status\"Warning message in install.packages(\"tidyverse\"):\n",
      "\"installation of package 'tidyverse' had non-zero exit status\""
     ]
    }
   ],
   "source": [
    "install.packages(\"tidyverse\")"
   ]
  },
  {
   "cell_type": "code",
   "execution_count": null,
   "metadata": {
    "vscode": {
     "languageId": "r"
    }
   },
   "outputs": [],
   "source": [
    "N_iter <- 500\n",
    "n = 100\n",
    "# num_preds <- c(500, 1000, 10000)\n",
    "q <- 6\n",
    "\n",
    "numCores <- detectCores() - 1\n",
    "\n",
    "sims <- list()\n",
    "\n",
    "# lapply sim norm and append to sims\n",
    "sims <- append(sims, lapply(seq(1:(N_iter)), function(x) \n",
    "    sim.norm(n, p = 500, q)))\n",
    "# print done\n",
    "print(\"done with 500\")\n",
    "sims <- append(sims, lapply(seq(1:(N_iter)), function(x) \n",
    "    sim.norm(n, p = 1000, q)\n",
    "))\n",
    "\n",
    "print(\"done with 1000\")\n",
    "\n",
    "\n",
    "sims[[10000]] <- lapply(seq(1:(N_iter/5)), function(x) {\n",
    "    sim.norm(n, p = 10000, q)\n",
    "})\n",
    "print(\"done with 10000\")\n",
    "\n",
    "\n",
    "model_output <- mclapply(sims, function(x) {\n",
    "    fit.models(x)\n",
    "}, mc.cores = numCores)\n",
    "\n",
    "\n",
    "df <- modelout_to_df(model_output)\n",
    "\n",
    "df$p  <- c(rep(500, 500), rep(1000, 500), rep(10000, 100))\n",
    "# save df to file as rda\n",
    "saveRDS(df, \"df.rda\")\n",
    "\n",
    "# group by model and summarise to get mean and standard deviation\n",
    "summarydf <- df %>%\n",
    "    group_by(p ,model) %>%\n",
    "    summarise(\n",
    "        FP_mean = mean(FP), FP_sd = sd(FP),\n",
    "        FN_mean = mean(FN), FN_sd = sd(FN),\n",
    "        auc_mean = mean(auc), auc_sd = sd(auc)\n",
    "    )\n",
    "# write to csv\n",
    "write.csv(summarydf, \"data/summarydf.csv\")"
   ]
  }
 ],
 "metadata": {
  "kernelspec": {
   "display_name": "R",
   "language": "R",
   "name": "ir"
  },
  "language_info": {
   "codemirror_mode": "r",
   "file_extension": ".r",
   "mimetype": "text/x-r-source",
   "name": "R",
   "pygments_lexer": "r",
   "version": "3.6.1"
  },
  "orig_nbformat": 4
 },
 "nbformat": 4,
 "nbformat_minor": 2
}
